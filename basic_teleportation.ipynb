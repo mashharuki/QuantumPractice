{
 "cells": [
  {
   "cell_type": "code",
   "execution_count": 1,
   "metadata": {},
   "outputs": [
    {
     "ename": "ModuleNotFoundError",
     "evalue": "No module named 'qiskit'",
     "output_type": "error",
     "traceback": [
      "\u001b[0;31m---------------------------------------------------------------------------\u001b[0m",
      "\u001b[0;31mModuleNotFoundError\u001b[0m                       Traceback (most recent call last)",
      "\u001b[0;32m<ipython-input-1-d1043419b7d1>\u001b[0m in \u001b[0;36m<module>\u001b[0;34m\u001b[0m\n\u001b[0;32m----> 1\u001b[0;31m \u001b[0;32mfrom\u001b[0m \u001b[0mqiskit\u001b[0m \u001b[0;32mimport\u001b[0m \u001b[0mQuantumCircuit\u001b[0m\u001b[0;34m,\u001b[0m \u001b[0mQuantumRegister\u001b[0m\u001b[0;34m,\u001b[0m \u001b[0mClassicalRegister\u001b[0m\u001b[0;34m,\u001b[0m \u001b[0mexecute\u001b[0m\u001b[0;34m,\u001b[0m \u001b[0mAer\u001b[0m\u001b[0;34m,\u001b[0m \u001b[0mIBMQ\u001b[0m\u001b[0;34m,\u001b[0m \u001b[0mBasicAer\u001b[0m\u001b[0;34m\u001b[0m\u001b[0;34m\u001b[0m\u001b[0m\n\u001b[0m\u001b[1;32m      2\u001b[0m \u001b[0;32mimport\u001b[0m \u001b[0mmath\u001b[0m\u001b[0;34m\u001b[0m\u001b[0;34m\u001b[0m\u001b[0m\n\u001b[1;32m      3\u001b[0m \u001b[0;34m\u001b[0m\u001b[0m\n\u001b[1;32m      4\u001b[0m \u001b[0malice\u001b[0m \u001b[0;34m=\u001b[0m \u001b[0mQuantumRegister\u001b[0m\u001b[0;34m(\u001b[0m\u001b[0;36m1\u001b[0m\u001b[0;34m,\u001b[0m \u001b[0mname\u001b[0m\u001b[0;34m=\u001b[0m\u001b[0;34m'alice'\u001b[0m\u001b[0;34m)\u001b[0m\u001b[0;34m\u001b[0m\u001b[0;34m\u001b[0m\u001b[0m\n\u001b[1;32m      5\u001b[0m \u001b[0mep\u001b[0m    \u001b[0;34m=\u001b[0m \u001b[0mQuantumRegister\u001b[0m\u001b[0;34m(\u001b[0m\u001b[0;36m1\u001b[0m\u001b[0;34m,\u001b[0m \u001b[0mname\u001b[0m\u001b[0;34m=\u001b[0m\u001b[0;34m'ep'\u001b[0m\u001b[0;34m)\u001b[0m\u001b[0;34m\u001b[0m\u001b[0;34m\u001b[0m\u001b[0m\n",
      "\u001b[0;31mModuleNotFoundError\u001b[0m: No module named 'qiskit'"
     ]
    }
   ],
   "source": [
    "# モジュールをインポートする。\n",
    "from qiskit import QuantumCircuit, QuantumRegister, ClassicalRegister, execute, Aer, IBMQ, BasicAer\n",
    "import math\n",
    "\n",
    "alice = QuantumRegister(1, name='alice')\n",
    "ep    = QuantumRegister(1, name='ep')\n",
    "bob   = QuantumRegister(1, name='bob')\n",
    "alice_c = ClassicalRegister(1, name='alicec')\n",
    "ep_c    = ClassicalRegister(1, name='epc')\n",
    "bob_c   = ClassicalRegister(1, name='bobc')\n",
    "qc = QuantumCircuit(alice, ep, bob, alice_c, ep_c, bob_c)\n",
    "\n",
    "# もつれたペアを作る。\n",
    "qc.h(ep)\n",
    "qc.cx(ep, bob)\n",
    "qc.barrier()\n",
    "\n",
    "# 積荷キュビット(ペイロード)を用意する。\n",
    "qc.reset(alice)\n",
    "qc.h(alice)\n",
    "qc.rz(math.radians(45), alice)\n",
    "qc.h(alice)\n",
    "qc.barrier()\n",
    "\n",
    "# 送信\n",
    "qc.cx(alice, ep)\n",
    "qc.h(alice)\n",
    "qc.measure(alice, alice_c)\n",
    "qc.measure(ep, ep_c)\n",
    "qc.barrier()\n",
    "\n",
    "# 受信\n",
    "qc.x(bob).c_if(ep_c, 1)\n",
    "qc.z(bob).c_if(alice_c, 1)\n",
    "\n",
    "# 確認する。　\n",
    "qc.h(bob)\n",
    "qc.rz(math.radians(-45), bob)\n",
    "qc.h(bob)\n",
    "qc.measure(bob, bob_c)\n",
    "\n",
    "## That's the program. Everything below runs and draws it.\n",
    "\n",
    "backend = BasicAer.get_backend('statevector_simulator')\n",
    "job = execute(qc, backend)\n",
    "result = job.result()\n",
    "\n",
    "counts = result.get_counts(qc)\n",
    "print('counts:',counts)\n",
    "\n",
    "outputstate = result.get_statevector(qc, decimals=3)\n",
    "print(outputstate)\n",
    "qc.draw()      "
   ]
  },
  {
   "cell_type": "code",
   "execution_count": null,
   "metadata": {},
   "outputs": [],
   "source": []
  }
 ],
 "metadata": {
  "kernelspec": {
   "display_name": "Python 3",
   "language": "python",
   "name": "python3"
  },
  "language_info": {
   "codemirror_mode": {
    "name": "ipython",
    "version": 3
   },
   "file_extension": ".py",
   "mimetype": "text/x-python",
   "name": "python",
   "nbconvert_exporter": "python",
   "pygments_lexer": "ipython3",
   "version": "3.8.5"
  }
 },
 "nbformat": 4,
 "nbformat_minor": 4
}
