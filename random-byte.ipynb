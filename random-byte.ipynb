{
 "cells": [
  {
   "cell_type": "code",
   "execution_count": 4,
   "metadata": {},
   "outputs": [
    {
     "name": "stdout",
     "output_type": "stream",
     "text": [
      "Circuit:\n",
      "(0, 0): ───H───M('result')───\n",
      "               │\n",
      "(1, 0): ───H───M─────────────\n",
      "               │\n",
      "(2, 0): ───H───M─────────────\n",
      "               │\n",
      "(3, 0): ───H───M─────────────\n",
      "               │\n",
      "(4, 0): ───H───M─────────────\n",
      "               │\n",
      "(5, 0): ───H───M─────────────\n",
      "               │\n",
      "(6, 0): ───H───M─────────────\n",
      "               │\n",
      "(7, 0): ───H───M─────────────\n",
      "measurements: result=00101011\n",
      "output vector: |00101011⟩\n"
     ]
    }
   ],
   "source": [
    "# cirqライブラリをインストールする。\n",
    "import cirq\n",
    "\n",
    "# 真にランダムバイトを生成するメイン関数\n",
    "def main():\n",
    "    # QPU関数呼び出し(qcインスタンスを生成する。)\n",
    "    qc = QPU()\n",
    "    # 8つのキュビットを割り当てる。\n",
    "    qc.reset(8)\n",
    "    # 重ね合わせ配置\n",
    "    qc.had() \n",
    "    # キュビットを観測\n",
    "    qc.read() \n",
    "    # 円を描く\n",
    "    qc.draw() \n",
    "    result = qc.run() \n",
    "    # 出力する。\n",
    "    print(result)\n",
    "    \n",
    "    \n",
    "\n",
    "######################################################################\n",
    "## Criqで用意されているインターフェース群\n",
    "class QPU:\n",
    "    def __init__(self):\n",
    "        self.circuit = cirq.Circuit()\n",
    "        self.simulator = cirq.Simulator()\n",
    "        self.qubits = None\n",
    "\n",
    "    def reset(self, num_qubits):\n",
    "        self.qubits = [cirq.GridQubit(i, 0) for i in range(num_qubits)]\n",
    "\n",
    "    def mask_to_list(self, mask):\n",
    "        return [q for i,q in enumerate(self.qubits) if (1 << i) & mask]\n",
    "\n",
    "    def had(self, target_mask=~0):\n",
    "        target = self.mask_to_list(target_mask)\n",
    "        self.circuit.append(cirq.H.on_each(*target))\n",
    "\n",
    "    def read(self, target_mask=~0, key=None):\n",
    "        if key is None:\n",
    "            key = 'result'\n",
    "        target = self.mask_to_list(target_mask)\n",
    "        self.circuit.append(cirq.measure(*target, key=key))\n",
    "\n",
    "    def draw(self):\n",
    "        print('Circuit:\\n{}'.format(self.circuit))\n",
    "\n",
    "    def run(self):\n",
    "        return self.simulator.simulate(self.circuit)\n",
    "\n",
    "# インポートされた際にプログラムが動かないようにする。\n",
    "if __name__ == '__main__':\n",
    "    main()"
   ]
  },
  {
   "cell_type": "code",
   "execution_count": null,
   "metadata": {},
   "outputs": [],
   "source": []
  },
  {
   "cell_type": "code",
   "execution_count": null,
   "metadata": {},
   "outputs": [],
   "source": []
  }
 ],
 "metadata": {
  "kernelspec": {
   "display_name": "Python 3",
   "language": "python",
   "name": "python3"
  },
  "language_info": {
   "codemirror_mode": {
    "name": "ipython",
    "version": 3
   },
   "file_extension": ".py",
   "mimetype": "text/x-python",
   "name": "python",
   "nbconvert_exporter": "python",
   "pygments_lexer": "ipython3",
   "version": "3.8.5"
  }
 },
 "nbformat": 4,
 "nbformat_minor": 4
}
