{
 "cells": [
  {
   "cell_type": "markdown",
   "metadata": {},
   "source": [
    "# コインフリップゲーム"
   ]
  },
  {
   "cell_type": "markdown",
   "metadata": {},
   "source": [
    "## ライブラリのインポート"
   ]
  },
  {
   "cell_type": "code",
   "execution_count": 1,
   "metadata": {},
   "outputs": [],
   "source": [
    "from qiskit import IBMQ\n",
    "from qiskit import QuantumCircuit\n",
    "from qiskit import execute\n",
    "from qiskit.providers.ibmq import least_busy\n",
    "from qiskit.visualization import plot_histogram\n",
    "from qiskit.tools.monitor import job_monitor"
   ]
  },
  {
   "cell_type": "markdown",
   "metadata": {},
   "source": [
    "## 人が反転しないときを量子コンピュータで実機でシミュレート\n",
    "２つのキュビットとビットを用意する"
   ]
  },
  {
   "cell_type": "code",
   "execution_count": 2,
   "metadata": {},
   "outputs": [],
   "source": [
    "# 回路を用意する。\n",
    "qc0 = QuantumCircuit(1, 1)"
   ]
  },
  {
   "cell_type": "markdown",
   "metadata": {},
   "source": [
    "回路追加"
   ]
  },
  {
   "cell_type": "code",
   "execution_count": 3,
   "metadata": {},
   "outputs": [
    {
     "data": {
      "image/png": "[encoded data removed]",
      "text/plain": [
       "<Figure size 374.326x144.48 with 1 Axes>"
      ]
     },
     "execution_count": 3,
     "metadata": {},
     "output_type": "execute_result"
    }
   ],
   "source": [
    "#コインを表に(1にする。)\n",
    "qc0.x(0)\n",
    "\n",
    "#コンピュータ (重ね合わせ状態にする。)\n",
    "qc0.h(0)\n",
    "\n",
    "#人(区切る(何もしない))\n",
    "qc0.barrier(0)\n",
    "\n",
    "#コンピュータ(HADゲートを追加する。)\n",
    "qc0.h(0)\n",
    "# 測定する。\n",
    "qc0.measure(0,0)\n",
    "\n",
    "qc0.draw(output='mpl')"
   ]
  },
  {
   "cell_type": "markdown",
   "metadata": {},
   "source": [
    "### 実行\n",
    "試行数をshotsに指定してプログラムを量子コンピューターで実行"
   ]
  },
  {
   "cell_type": "code",
   "execution_count": 4,
   "metadata": {
    "scrolled": false
   },
   "outputs": [
    {
     "name": "stdout",
     "output_type": "stream",
     "text": [
      "Least Busy Backend: ibmq_manila\n",
      "Job Status: job has successfully run\n"
     ]
    }
   ],
   "source": [
    "provider = IBMQ.load_account()\n",
    "small_devices = provider.backends(filters=lambda x: x.configuration().n_qubits == 5 and not x.configuration().simulator)\n",
    "\n",
    "least_busy_backend = least_busy(small_devices)\n",
    "print('Least Busy Backend:', least_busy_backend)\n",
    "\n",
    "job_0 = execute(qc0, least_busy_backend, shots=200)\n",
    "job_monitor(job_0)\n",
    "result_0 = job_0.result()"
   ]
  },
  {
   "cell_type": "markdown",
   "metadata": {},
   "source": [
    "### ビットパターン毎の測定結果（勝ち負けの回数）"
   ]
  },
  {
   "cell_type": "code",
   "execution_count": 5,
   "metadata": {
    "scrolled": true
   },
   "outputs": [
    {
     "name": "stdout",
     "output_type": "stream",
     "text": [
      "{'0': 7, '1': 193}\n"
     ]
    }
   ],
   "source": [
    "counts_0 = result_0.get_counts(qc0)\n",
    "# ほとんどコンピュータの勝ち\n",
    "print(counts_0)"
   ]
  },
  {
   "cell_type": "markdown",
   "metadata": {},
   "source": [
    "### ヒストグラム（勝ち負けの割合）"
   ]
  },
  {
   "cell_type": "code",
   "execution_count": 6,
   "metadata": {
    "scrolled": false
   },
   "outputs": [
    {
     "data": {
      "image/png": "[encoded data removed]",
      "text/plain": [
       "<Figure size 504x360 with 1 Axes>"
      ]
     },
     "execution_count": 6,
     "metadata": {},
     "output_type": "execute_result"
    }
   ],
   "source": [
    "plot_histogram(counts_0)"
   ]
  },
  {
   "cell_type": "markdown",
   "metadata": {},
   "source": [
    "## 人が反転する場合を量子コンピュータ実機でシミュレート"
   ]
  },
  {
   "cell_type": "code",
   "execution_count": 7,
   "metadata": {},
   "outputs": [],
   "source": [
    "qc1 = QuantumCircuit(1, 1)"
   ]
  },
  {
   "cell_type": "markdown",
   "metadata": {},
   "source": [
    "QASMでプログラム（量子回路）を記述"
   ]
  },
  {
   "cell_type": "code",
   "execution_count": 8,
   "metadata": {},
   "outputs": [
    {
     "data": {
      "image/png": "[encoded data removed]",
      "text/plain": [
       "<Figure size 494.726x144.48 with 1 Axes>"
      ]
     },
     "execution_count": 8,
     "metadata": {},
     "output_type": "execute_result"
    }
   ],
   "source": [
    "# 1にする。\n",
    "qc1.x(0)\n",
    "# HADゲートを追加する。\n",
    "qc1.h(0)\n",
    "\n",
    "# 人が反転\n",
    "qc1.barrier(0)\n",
    "#  NOTゲートを追加する。\n",
    "qc1.x(0)\n",
    "qc1.barrier(0)\n",
    "# HADゲートを追加する。\n",
    "qc1.h(0)\n",
    "# 測定する。\n",
    "qc1.measure(0,0)\n",
    "\n",
    "qc1.draw(output='mpl')"
   ]
  },
  {
   "cell_type": "markdown",
   "metadata": {},
   "source": [
    "### 実行\n",
    "試行数をshotsに指定してプログラムを量子コンピューターで実行"
   ]
  },
  {
   "cell_type": "code",
   "execution_count": 9,
   "metadata": {
    "scrolled": false
   },
   "outputs": [
    {
     "name": "stdout",
     "output_type": "stream",
     "text": [
      "Job Status: job has successfully run\n"
     ]
    }
   ],
   "source": [
    "job_1 = execute(qc1, least_busy_backend, shots=200)\n",
    "job_monitor(job_1)\n",
    "result_1 = job_1.result()"
   ]
  },
  {
   "cell_type": "markdown",
   "metadata": {},
   "source": [
    "### ビットパターン毎の測定結果（勝ち負けの回数）"
   ]
  },
  {
   "cell_type": "code",
   "execution_count": 10,
   "metadata": {
    "scrolled": true
   },
   "outputs": [
    {
     "name": "stdout",
     "output_type": "stream",
     "text": [
      "{'0': 8, '1': 192}\n"
     ]
    }
   ],
   "source": [
    "counts_1 = result_1.get_counts(qc1)\n",
    "# やっぱりほとんどコンピュータの勝ち。。。。\n",
    "print(counts_1)"
   ]
  },
  {
   "cell_type": "markdown",
   "metadata": {},
   "source": [
    "### ヒストグラム（勝ち負けの割合）"
   ]
  },
  {
   "cell_type": "code",
   "execution_count": 11,
   "metadata": {
    "scrolled": false
   },
   "outputs": [
    {
     "data": {
      "image/png": "[encoded data removed]",
      "text/plain": [
       "<Figure size 504x360 with 1 Axes>"
      ]
     },
     "execution_count": 11,
     "metadata": {},
     "output_type": "execute_result"
    }
   ],
   "source": [
    "plot_histogram(counts_1)"
   ]
  },
  {
   "cell_type": "code",
   "execution_count": null,
   "metadata": {},
   "outputs": [],
   "source": []
  }
 ],
 "metadata": {
  "kernelspec": {
   "display_name": "Python 3",
   "language": "python",
   "name": "python3"
  },
  "language_info": {
   "codemirror_mode": {
    "name": "ipython",
    "version": 3
   },
   "file_extension": ".py",
   "mimetype": "text/x-python",
   "name": "python",
   "nbconvert_exporter": "python",
   "pygments_lexer": "ipython3",
   "version": "3.8.5"
  }
 },
 "nbformat": 4,
 "nbformat_minor": 4
}
