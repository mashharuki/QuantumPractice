{
 "cells": [
  {
   "cell_type": "code",
   "execution_count": 7,
   "metadata": {},
   "outputs": [
    {
     "name": "stdout",
     "output_type": "stream",
     "text": [
      "Circuit:\n",
      "(1, 0): ───H───\n",
      "\n",
      "(2, 0): ───H───\n",
      "\n",
      "(3, 0): ───H───\n",
      "measurements: (no measurements)\n",
      "output vector: 0.354|000⟩ + 0.354|001⟩ + 0.354|010⟩ + 0.354|011⟩ + 0.354|100⟩ + 0.354|101⟩ + 0.354|110⟩ + 0.354|111⟩\n"
     ]
    }
   ],
   "source": [
    "import cirq\n",
    "import math\n",
    "\n",
    "# メイン関数\n",
    "def main():\n",
    "    # 初期化\n",
    "    qc = QPU()\n",
    "    # キュビットを3つ用意する。\n",
    "    qc.reset(4);\n",
    "    # キュビットを区別するためラベルをつけること。\n",
    "    qubit1 = 0x1\n",
    "    qubit2 = 0x2\n",
    "    qubit3 = 0x4\n",
    "    qubit4 = 0x8\n",
    "    # had命令\n",
    "    qc.had(qubit2);\n",
    "    qc.had(qubit3);\n",
    "    qc.had(qubit4);\n",
    "    # 円を描く\n",
    "    qc.draw() \n",
    "    # 実行\n",
    "    result = qc.run() \n",
    "    print(result)\n",
    "\n",
    "\n",
    "## インターフェース群\n",
    "class QPU:\n",
    "    def __init__(self):\n",
    "        self.circuit = cirq.Circuit()\n",
    "        self.simulator = cirq.Simulator()\n",
    "        self.qubits = None\n",
    "\n",
    "    def reset(self, num_qubits):\n",
    "        self.qubits = [cirq.GridQubit(i, 0) for i in range(num_qubits)]\n",
    "\n",
    "    def mask_to_list(self, mask):\n",
    "        return [q for i,q in enumerate(self.qubits) if (1 << i) & mask]\n",
    "\n",
    "    def had(self, target_mask=~0):\n",
    "        target = self.mask_to_list(target_mask)\n",
    "        self.circuit.append(cirq.H.on_each(*target))\n",
    "\n",
    "    def phase(self, theta_degrees, target_mask=~0):\n",
    "        target = self.mask_to_list(target_mask)\n",
    "        theta_radians = theta_degrees * math.pi / 180.0\n",
    "        self.circuit.append(cirq.Rz(theta_radians).on_each(*target))\n",
    "\n",
    "    def rootnot(self, target_mask=~0):\n",
    "        sqrt_x = cirq.X**0.5\n",
    "        target = self.mask_to_list(target_mask)\n",
    "        self.circuit.append(sqrt_x.on_each(*target))\n",
    "\n",
    "    def read(self, target_mask=~0, key=None):\n",
    "        if key is None:\n",
    "            key = 'result'\n",
    "        target = self.mask_to_list(target_mask)\n",
    "        self.circuit.append(cirq.measure(*target, key=key))\n",
    "\n",
    "    def draw(self):\n",
    "        print('Circuit:\\n{}'.format(self.circuit))\n",
    "\n",
    "    def run(self, repetitions=1):\n",
    "        return self.simulator.simulate(self.circuit)\n",
    "\n",
    "\n",
    "if __name__ == '__main__':\n",
    "    main()"
   ]
  },
  {
   "cell_type": "code",
   "execution_count": null,
   "metadata": {},
   "outputs": [],
   "source": []
  }
 ],
 "metadata": {
  "kernelspec": {
   "display_name": "Python 3",
   "language": "python",
   "name": "python3"
  },
  "language_info": {
   "codemirror_mode": {
    "name": "ipython",
    "version": 3
   },
   "file_extension": ".py",
   "mimetype": "text/x-python",
   "name": "python",
   "nbconvert_exporter": "python",
   "pygments_lexer": "ipython3",
   "version": "3.8.5"
  }
 },
 "nbformat": 4,
 "nbformat_minor": 4
}
