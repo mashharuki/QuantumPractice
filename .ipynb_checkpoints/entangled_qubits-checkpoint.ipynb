{
 "cells": [
  {
   "cell_type": "code",
   "execution_count": 2,
   "metadata": {},
   "outputs": [
    {
     "name": "stdout",
     "output_type": "stream",
     "text": [
      "Circuit:\n",
      "(0, 0): ───H───@───\n",
      "               │\n",
      "(1, 0): ───────X───\n",
      "measurements: (no measurements)\n",
      "output vector: 0.707|00⟩ + 0.707|11⟩\n"
     ]
    }
   ],
   "source": [
    "import cirq\n",
    "import math\n",
    "\n",
    "# 量子のもつれを体験するコード\n",
    "def main():\n",
    "    qc = QPU()\n",
    "    qc.reset(2)\n",
    "    a = 0x1\n",
    "    b = 0x2\n",
    "    # had命令\n",
    "    qc.had(a); \n",
    "    # 量子のもつれ\n",
    "    qc.cnot(b, a);       \n",
    "\n",
    "    qc.draw() \n",
    "    result = qc.run() \n",
    "    print(result)\n",
    "\n",
    "\n",
    "# インターフェース群\n",
    "class QPU:\n",
    "    def __init__(self):\n",
    "        self.circuit = cirq.Circuit()\n",
    "        self.simulator = cirq.Simulator()\n",
    "        self.qubits = None\n",
    "\n",
    "    def reset(self, num_qubits):\n",
    "        self.qubits = [cirq.GridQubit(i, 0) for i in range(num_qubits)]\n",
    "\n",
    "    def mask_to_list(self, mask):\n",
    "        return [q for i,q in enumerate(self.qubits) if (1 << i) & mask]\n",
    "\n",
    "    def had(self, target_mask=~0):\n",
    "        target = self.mask_to_list(target_mask)\n",
    "        self.circuit.append(cirq.H.on_each(*target))\n",
    "\n",
    "    def x(self, target_mask=~0):\n",
    "        target = self.mask_to_list(target_mask)\n",
    "        self.circuit.append(cirq.X.on_each(*target))\n",
    "\n",
    "    def cnot(self, target_mask, control_mask):\n",
    "        target = self.mask_to_list(target_mask)\n",
    "        control = self.mask_to_list(control_mask)\n",
    "        self.circuit.append(cirq.CNOT.on(control[0], target[0]))\n",
    "\n",
    "    def exchange(self, q0_mask, q1_mask):\n",
    "        # Construct SWAP per Figure 3-21 in the book\n",
    "        self.cnot(q0_mask, q1_mask)\n",
    "        self.cnot(q1_mask, q0_mask)\n",
    "        self.cnot(q0_mask, q1_mask)\n",
    "\n",
    "    def phase(self, theta_degrees, target_mask=~0):\n",
    "        target = self.mask_to_list(target_mask)\n",
    "        theta_radians = theta_degrees * math.pi / 180.0\n",
    "        self.circuit.append(cirq.Rz(theta_radians).on_each(*target))\n",
    "\n",
    "    def rootnot(self, target_mask=~0):\n",
    "        sqrt_x = cirq.X**0.5\n",
    "        target = self.mask_to_list(target_mask)\n",
    "        self.circuit.append(sqrt_x.on_each(*target))\n",
    "\n",
    "    def read(self, target_mask=~0, key=None):\n",
    "        if key is None:\n",
    "            key = 'result'\n",
    "        target = self.mask_to_list(target_mask)\n",
    "        self.circuit.append(cirq.measure(*target, key=key))\n",
    "\n",
    "    def draw(self):\n",
    "        print('Circuit:\\n{}'.format(self.circuit))\n",
    "\n",
    "    def run(self):\n",
    "        return self.simulator.simulate(self.circuit)\n",
    "\n",
    "\n",
    "if __name__ == '__main__':\n",
    "    main()"
   ]
  },
  {
   "cell_type": "code",
   "execution_count": null,
   "metadata": {},
   "outputs": [],
   "source": []
  }
 ],
 "metadata": {
  "kernelspec": {
   "display_name": "Python 3",
   "language": "python",
   "name": "python3"
  },
  "language_info": {
   "codemirror_mode": {
    "name": "ipython",
    "version": 3
   },
   "file_extension": ".py",
   "mimetype": "text/x-python",
   "name": "python",
   "nbconvert_exporter": "python",
   "pygments_lexer": "ipython3",
   "version": "3.8.5"
  }
 },
 "nbformat": 4,
 "nbformat_minor": 4
}
